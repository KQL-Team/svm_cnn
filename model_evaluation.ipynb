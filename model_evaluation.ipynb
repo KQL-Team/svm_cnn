{
 "cells": [
  {
   "metadata": {},
   "cell_type": "code",
   "source": [
    "import tensorflow as tf\n",
    "from tensorflow.keras.models import load_model\n",
    "from tensorflow.keras.preprocessing.image import ImageDataGenerator\n",
    "import os\n",
    "from train_models import *"
   ],
   "id": "57a6a6f44d48dac0",
   "outputs": [],
   "execution_count": null
  },
  {
   "metadata": {},
   "cell_type": "code",
   "source": [
    "class svm_layer(tf.keras.layers.Layer):\n",
    "    def __init__(self, penalty_para=1.0, **kwargs):\n",
    "        super(svm_layer, self).__init__(**kwargs)\n",
    "        self.penalty_para = penalty_para\n",
    "    def build(self, input_shape):\n",
    "        self.readout_weight = self.add_weight(name='readout_weight',\n",
    "                                              shape=(input_shape[-1], 1),\n",
    "                                              initializer='random_normal',\n",
    "                                              trainable=True)\n",
    "        self.bias = self.add_weight(name='bias', shape=(1,), initializer='zeros', trainable=True )\n",
    "    def call(self, inputs):\n",
    "        output = tf.matmul(inputs, self.readout_weight) + self.bias\n",
    "        return output"
   ],
   "id": "fdf3dc3a6725c2ba",
   "outputs": [],
   "execution_count": null
  },
  {
   "metadata": {},
   "cell_type": "code",
   "source": [
    "test_datagen = ImageDataGenerator(rescale=1.0/255)\n",
    "notebook_dir = os.getcwd()\n",
    "project_root = os.path.dirname(notebook_dir)"
   ],
   "id": "3dbc18c3e827a710",
   "outputs": [],
   "execution_count": null
  },
  {
   "metadata": {},
   "cell_type": "code",
   "source": "test_dir = os.path.join(project_root,'SVM_CNN', 'Image_processing', 'DATASET', 'TEST')",
   "id": "f06b71f39c47a647",
   "outputs": [],
   "execution_count": null
  },
  {
   "metadata": {},
   "cell_type": "code",
   "source": [
    "test_generator = test_datagen.flow_from_directory(\n",
    "    test_dir,\n",
    "    target_size=(331, 331),\n",
    "    class_mode='binary',\n",
    "    shuffle=False\n",
    ")"
   ],
   "id": "1cbd7767d0faf66",
   "outputs": [],
   "execution_count": null
  },
  {
   "metadata": {},
   "cell_type": "code",
   "source": [
    "nasnet_svm = load_model('nasnet_svm/nasnet_svm.h5', custom_objects={'svm_layer': svm_layer})\n",
    "nasnet_model = load_model('nasnet_svm/nasnet-model.h5')\n",
    "cnn = load_model('train_models/model.h5')"
   ],
   "id": "215e4253842957ba",
   "outputs": [],
   "execution_count": null
  },
  {
   "metadata": {},
   "cell_type": "code",
   "source": [
    "nsvm_pred = nasnet_svm.predict(test_generator)\n",
    "nasnet_pred = nasnet_model.predict(test_generator)\n",
    "cnn_pred = cnn.predict(test_generator)"
   ],
   "id": "b5a6cd5fe38299e9",
   "outputs": [],
   "execution_count": null
  }
 ],
 "metadata": {
  "kernelspec": {
   "display_name": "Python 3",
   "language": "python",
   "name": "python3"
  },
  "language_info": {
   "codemirror_mode": {
    "name": "ipython",
    "version": 2
   },
   "file_extension": ".py",
   "mimetype": "text/x-python",
   "name": "python",
   "nbconvert_exporter": "python",
   "pygments_lexer": "ipython2",
   "version": "2.7.6"
  }
 },
 "nbformat": 4,
 "nbformat_minor": 5
}
