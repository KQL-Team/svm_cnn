{
 "cells": [
  {
   "cell_type": "code",
   "id": "initial_id",
   "metadata": {
    "collapsed": true
   },
   "source": [
    "from tensorflow.keras.models import load_model\n",
    "import tensorflow as tf\n",
    "from sklearn.model_selection import train_test_split\n",
    "from sklearn.svm import SVC\n",
    "from sklearn.metrics import accuracy_score\n",
    "from sklearn.preprocessing import StandardScaler\n",
    "from tqdm import tqdm\n",
    "from pathlib import Path\n",
    "import numpy as np\n",
    "from PIL import Image\n",
    "from tensorflow.keras.preprocessing.image import ImageDataGenerator"
   ],
   "outputs": [],
   "execution_count": null
  },
  {
   "metadata": {},
   "cell_type": "code",
   "source": [
    "datagen = ImageDataGenerator(\n",
    "    rescale=1.0/255,\n",
    "    rotation_range=40,\n",
    "    width_shift_range=0.2,\n",
    "    height_shift_range=0.2,\n",
    "    shear_range=0.2,\n",
    "    zoom_range=0.2,\n",
    "    horizontal_flip=True,\n",
    "    vertical_flip=True,\n",
    "    fill_mode='nearest',\n",
    ")"
   ],
   "id": "4552e65155326b55",
   "outputs": [],
   "execution_count": null
  },
  {
   "metadata": {},
   "cell_type": "code",
   "source": [
    "train_generator = datagen.flow_from_directory(\n",
    "    'Image_processing/DATASET/TRAIN',\n",
    "    target_size=(128, 128),\n",
    "    batch_size=32,\n",
    "    class_mode='binary',\n",
    "    shuffle=True\n",
    ")\n",
    "test_datagen = ImageDataGenerator(rescale=1.0/255)"
   ],
   "id": "7cbdca7d18e8398",
   "outputs": [],
   "execution_count": null
  },
  {
   "metadata": {},
   "cell_type": "code",
   "source": [
    "model = load_model('model.h5')\n",
    "feature_extractor = tf.keras.Model(inputs= model.input, outputs= model.layers[-2].output)\n",
    "test_generator = test_datagen.flow_from_directory(\n",
    "    'Image_processing/DATASET/TEST',\n",
    "    target_size=(128, 128),\n",
    "    class_mode='binary',\n",
    "    shuffle=False\n",
    ")"
   ],
   "id": "dc5ba7f67906d4cf",
   "outputs": [],
   "execution_count": null
  },
  {
   "metadata": {},
   "cell_type": "code",
   "source": "X_train = feature_extractor.predict(train_generator)",
   "id": "ed53d3f2338f862d",
   "outputs": [],
   "execution_count": null
  },
  {
   "metadata": {},
   "cell_type": "code",
   "source": "X_test = feature_extractor.predict(test_generator)",
   "id": "91293e65763b957f",
   "outputs": [],
   "execution_count": null
  },
  {
   "metadata": {},
   "cell_type": "code",
   "source": [
    "labels = []\n",
    "for i in tqdm(range(706)):\n",
    "    inputs, label_batch = next(train_generator)\n",
    "    labels.extend(label_batch)\n",
    "labels = np.array(labels)\n",
    "labels.shape"
   ],
   "id": "bcdd81aa91736e8f",
   "outputs": [],
   "execution_count": null
  },
  {
   "metadata": {},
   "cell_type": "code",
   "source": [
    "y_test = []\n",
    "for i in tqdm(range(79)):\n",
    "    inputs, label_batch = next(test_generator)\n",
    "    y_test.extend(label_batch)\n",
    "y_test = np.array(y_test)\n",
    "y_test.shape"
   ],
   "id": "3732764f10721871",
   "outputs": [],
   "execution_count": null
  },
  {
   "metadata": {},
   "cell_type": "code",
   "source": [
    "scaler = StandardScaler()\n",
    "X_train_scaled = scaler.fit_transform(X_train)\n",
    "X_test_scaled = scaler.transform(X_test)"
   ],
   "id": "fef83037bb8d30f9",
   "outputs": [],
   "execution_count": null
  },
  {
   "metadata": {
    "jupyter": {
     "is_executing": true
    }
   },
   "cell_type": "code",
   "source": [
    "svm = SVC(kernel='linear', C=1, gamma='auto', verbose=True)\n",
    "svm.fit(X_train_scaled, labels)"
   ],
   "id": "a1302ffc416e96a2",
   "outputs": [],
   "execution_count": null
  },
  {
   "metadata": {},
   "cell_type": "code",
   "source": "y_pred = svm.predict(X_train[:2000])",
   "id": "4efb42fe9003c0e4",
   "outputs": [],
   "execution_count": null
  },
  {
   "metadata": {},
   "cell_type": "code",
   "source": [
    "score = accuracy_score(labels[:2000], y_pred)\n",
    "score"
   ],
   "id": "7da1bfc2006c38fd",
   "outputs": [],
   "execution_count": null
  }
 ],
 "metadata": {
  "kernelspec": {
   "display_name": "Python 3",
   "language": "python",
   "name": "python3"
  },
  "language_info": {
   "codemirror_mode": {
    "name": "ipython",
    "version": 2
   },
   "file_extension": ".py",
   "mimetype": "text/x-python",
   "name": "python",
   "nbconvert_exporter": "python",
   "pygments_lexer": "ipython2",
   "version": "2.7.6"
  }
 },
 "nbformat": 4,
 "nbformat_minor": 5
}
