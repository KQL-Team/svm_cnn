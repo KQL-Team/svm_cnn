{
 "cells": [
  {
   "cell_type": "code",
   "id": "initial_id",
   "metadata": {
    "collapsed": true
   },
   "source": [
    "from tensorflow.keras.preprocessing.image import ImageDataGenerator\n",
    "from PIL import Image\n",
    "import numpy as np\n",
    "from cnn import CNN\n",
    "import tensorflow as tf\n",
    "from tqdm import tqdm\n",
    "from pathlib import Path"
   ],
   "outputs": [],
   "execution_count": null
  },
  {
   "metadata": {},
   "cell_type": "code",
   "source": [
    "datagen = ImageDataGenerator(\n",
    "    rescale=1.0/255,\n",
    "    rotation_range=40,\n",
    "    width_shift_range=0.2,\n",
    "    height_shift_range=0.2,\n",
    "    shear_range=0.2,\n",
    "    zoom_range=0.2,\n",
    "    horizontal_flip=True,\n",
    "    vertical_flip=True,\n",
    "    fill_mode='nearest',\n",
    "    validation_split=0.2\n",
    ")"
   ],
   "id": "abc58203e2deee64",
   "outputs": [],
   "execution_count": null
  },
  {
   "metadata": {},
   "cell_type": "code",
   "source": [
    "for i in tqdm(range(12567)):\n",
    "    file_path = f\"DATASET/TRAIN/O/O_{i+1}\" + '.jpg'\n",
    "    if Path(file_path).is_file():\n",
    "        with Image.open(file_path) as image:\n",
    "            image = image.convert('RGB')\n",
    "            image.save(file_path)"
   ],
   "id": "4c7673afd46b18b4",
   "outputs": [],
   "execution_count": null
  },
  {
   "metadata": {},
   "cell_type": "code",
   "source": [
    "for i in tqdm(range(9999)):\n",
    "    file_path = f\"DATASET/TRAIN/R/R_{i+1}\" + '.jpg'\n",
    "    if Path(file_path).is_file():\n",
    "        with Image.open(file_path) as image:\n",
    "            image = image.convert('RGB')\n",
    "            image.save(file_path)"
   ],
   "id": "138c16cc231ee410",
   "outputs": [],
   "execution_count": null
  },
  {
   "metadata": {},
   "cell_type": "code",
   "source": [
    "train_generator = datagen.flow_from_directory(\n",
    "    'Image_processing/DATASET/TRAIN',\n",
    "    target_size=(128, 128),\n",
    "    batch_size=32,\n",
    "    class_mode='binary',\n",
    "    subset='training',\n",
    "    shuffle=True\n",
    ")\n",
    "valid_generator = datagen.flow_from_directory(\n",
    "    'Image_processing/DATASET/TRAIN',\n",
    "    target_size=(128, 128),\n",
    "    batch_size=32,\n",
    "    class_mode='binary',\n",
    "    subset='validation',\n",
    "    shuffle=False\n",
    ")"
   ],
   "id": "b3b218083745620e",
   "outputs": [],
   "execution_count": null
  },
  {
   "metadata": {},
   "cell_type": "code",
   "source": [
    "images, labels = next(train_generator)\n",
    "print(images.shape, labels.shape)  # Check the dimensions of the data and labels"
   ],
   "id": "6210016a3c8bf679",
   "outputs": [],
   "execution_count": null
  },
  {
   "metadata": {},
   "cell_type": "code",
   "source": [
    "model = CNN()\n",
    "model.compile(optimizer='adam', loss='binary_crossentropy', metrics=['accuracy'])"
   ],
   "id": "19bbdfd82c0e4ba1",
   "outputs": [],
   "execution_count": null
  },
  {
   "metadata": {},
   "cell_type": "code",
   "source": "model.summary()",
   "id": "76638edc5aaa5019",
   "outputs": [],
   "execution_count": null
  },
  {
   "metadata": {},
   "cell_type": "code",
   "source": [
    "model.fit(train_generator,\n",
    "          epochs=100,\n",
    "          steps_per_epoch=train_generator.samples // train_generator.batch_size,\n",
    "          validation_data=valid_generator,\n",
    "          validation_steps=valid_generator.samples // valid_generator.batch_size\n",
    ")"
   ],
   "id": "261c3398d456b20d",
   "outputs": [],
   "execution_count": null
  }
 ],
 "metadata": {
  "kernelspec": {
   "display_name": "Python 3",
   "language": "python",
   "name": "python3"
  },
  "language_info": {
   "codemirror_mode": {
    "name": "ipython",
    "version": 2
   },
   "file_extension": ".py",
   "mimetype": "text/x-python",
   "name": "python",
   "nbconvert_exporter": "python",
   "pygments_lexer": "ipython2",
   "version": "2.7.6"
  }
 },
 "nbformat": 4,
 "nbformat_minor": 5
}
