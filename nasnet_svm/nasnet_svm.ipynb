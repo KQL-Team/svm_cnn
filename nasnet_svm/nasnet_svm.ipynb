{
 "cells": [
  {
   "cell_type": "code",
   "id": "initial_id",
   "metadata": {
    "collapsed": true,
    "ExecuteTime": {
     "end_time": "2024-11-21T13:07:29.559388Z",
     "start_time": "2024-11-21T13:07:29.547898Z"
    }
   },
   "source": [
    "from tensorflow.keras.preprocessing.image import ImageDataGenerator\n",
    "from tensorflow.keras.models import load_model\n",
    "import tensorflow as tf\n",
    "import numpy as np\n",
    "from tqdm import tqdm\n",
    "from sklearn.decomposition import PCA\n",
    "import os\n",
    "from sklearn.model_selection import GridSearchCV\n",
    "from sklearn.svm import SVC"
   ],
   "outputs": [],
   "execution_count": 10
  },
  {
   "metadata": {
    "ExecuteTime": {
     "end_time": "2024-11-21T14:32:47.420173Z",
     "start_time": "2024-11-21T14:32:47.100231Z"
    }
   },
   "cell_type": "code",
   "source": [
    "loaded = np.load('feat_arrays.npz')\n",
    "feat_train = loaded['feat_train']\n",
    "feat_val = loaded['feat_valid']\n",
    "feat_test = loaded['feat_test']"
   ],
   "id": "7939951d11298c03",
   "outputs": [],
   "execution_count": 162
  },
  {
   "metadata": {
    "ExecuteTime": {
     "end_time": "2024-11-21T14:32:47.430897Z",
     "start_time": "2024-11-21T14:32:47.420173Z"
    }
   },
   "cell_type": "code",
   "source": [
    "loaded = np.load('label_arrays.npz')\n",
    "label_train = loaded['label_train']\n",
    "label_val = loaded['label_valid']\n",
    "label_test = loaded['label_test']"
   ],
   "id": "b9dd14e3329f5392",
   "outputs": [],
   "execution_count": 163
  },
  {
   "metadata": {
    "ExecuteTime": {
     "end_time": "2024-11-21T14:32:49.195199Z",
     "start_time": "2024-11-21T14:32:47.442622Z"
    }
   },
   "cell_type": "code",
   "source": [
    "pca = PCA(n_components=10)\n",
    "feat_train_pca = pca.fit_transform(feat_train)\n",
    "feat_val_pca = pca.transform(feat_val)\n",
    "feat_test_pca = pca.transform(feat_test)"
   ],
   "id": "e3c647078494baad",
   "outputs": [],
   "execution_count": 164
  },
  {
   "metadata": {
    "ExecuteTime": {
     "end_time": "2024-11-21T14:32:49.212251Z",
     "start_time": "2024-11-21T14:32:49.205764Z"
    }
   },
   "cell_type": "code",
   "source": [
    "feat_train_pca = np.concatenate((feat_train_pca, feat_val_pca), axis=0)\n",
    "label_train = np.concatenate((label_train, label_val), axis=0)"
   ],
   "id": "62e0ca7df5b833ef",
   "outputs": [],
   "execution_count": 165
  },
  {
   "metadata": {
    "jupyter": {
     "is_executing": true
    },
    "ExecuteTime": {
     "start_time": "2024-11-21T14:32:49.359485Z"
    }
   },
   "cell_type": "code",
   "source": [
    "svm = SVC(kernel='rbf', C=1, gamma=0.1)\n",
    "svm.fit(feat_train_pca, label_train)"
   ],
   "id": "434801e3ea83348",
   "outputs": [],
   "execution_count": null
  },
  {
   "metadata": {
    "ExecuteTime": {
     "end_time": "2024-11-21T14:26:43.686395Z",
     "start_time": "2024-11-21T14:26:39.758334Z"
    }
   },
   "cell_type": "code",
   "source": "svm.score(feat_train_pca[:2000], label_train[:2000])",
   "id": "ee9ece2d6672c19",
   "outputs": [
    {
     "data": {
      "text/plain": [
       "0.9735"
      ]
     },
     "execution_count": 156,
     "metadata": {},
     "output_type": "execute_result"
    }
   ],
   "execution_count": 156
  },
  {
   "metadata": {
    "ExecuteTime": {
     "end_time": "2024-11-21T14:26:48.773602Z",
     "start_time": "2024-11-21T14:26:43.766971Z"
    }
   },
   "cell_type": "code",
   "source": "svm.score(feat_test_pca, label_test)",
   "id": "ce6c2570afa791ba",
   "outputs": [
    {
     "data": {
      "text/plain": [
       "0.5602865101472344"
      ]
     },
     "execution_count": 157,
     "metadata": {},
     "output_type": "execute_result"
    }
   ],
   "execution_count": 157
  },
  {
   "metadata": {},
   "cell_type": "code",
   "outputs": [],
   "execution_count": null,
   "source": "",
   "id": "a623b938465d7f6f"
  }
 ],
 "metadata": {
  "kernelspec": {
   "display_name": "Python 3",
   "language": "python",
   "name": "python3"
  },
  "language_info": {
   "codemirror_mode": {
    "name": "ipython",
    "version": 2
   },
   "file_extension": ".py",
   "mimetype": "text/x-python",
   "name": "python",
   "nbconvert_exporter": "python",
   "pygments_lexer": "ipython2",
   "version": "2.7.6"
  }
 },
 "nbformat": 4,
 "nbformat_minor": 5
}
