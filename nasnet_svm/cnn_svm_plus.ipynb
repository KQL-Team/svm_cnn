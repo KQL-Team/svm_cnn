{
 "cells": [
  {
   "cell_type": "code",
   "id": "initial_id",
   "metadata": {
    "collapsed": true,
    "ExecuteTime": {
     "end_time": "2024-11-21T07:53:32.694410Z",
     "start_time": "2024-11-21T07:53:32.689600Z"
    }
   },
   "source": [
    "from tensorflow.keras.preprocessing.image import ImageDataGenerator\n",
    "from tensorflow.keras.models import load_model\n",
    "import tensorflow as tf\n",
    "import numpy as np\n",
    "from tqdm import tqdm\n",
    "from sklearn.decomposition import PCA\n",
    "import os\n",
    "from sklearn.model_selection import GridSearchCV"
   ],
   "outputs": [],
   "execution_count": 10
  },
  {
   "metadata": {},
   "cell_type": "code",
   "source": [
    "datagen = ImageDataGenerator(\n",
    "    rescale=1.0/255,\n",
    "    rotation_range=40,\n",
    "    width_shift_range=0.2,\n",
    "    height_shift_range=0.2,\n",
    "    shear_range=0.2,\n",
    "    zoom_range=0.2,\n",
    "    horizontal_flip=True,\n",
    "    vertical_flip=True,\n",
    "    fill_mode='nearest',\n",
    ")\n",
    "test_datagen = ImageDataGenerator(rescale=1.0/255)\n",
    "notebook_dir = os.getcwd()\n",
    "project_root = os.path.dirname(notebook_dir)"
   ],
   "id": "c5c9482063005de0",
   "outputs": [],
   "execution_count": null
  },
  {
   "metadata": {},
   "cell_type": "code",
   "source": [
    "train_dir = os.path.join(project_root, 'Image_processing', 'DATASET', 'TRAIN')\n",
    "test_dir = os.path.join(project_root, 'Image_processing', 'DATASET', 'TEST')"
   ],
   "id": "19c5e5abb25c6a64",
   "outputs": [],
   "execution_count": null
  },
  {
   "metadata": {},
   "cell_type": "code",
   "source": [
    "train_generator = datagen.flow_from_directory(\n",
    "    train_dir,\n",
    "    target_size=(331, 331),\n",
    "    batch_size=32,\n",
    "    class_mode='binary',\n",
    "    shuffle=True\n",
    ")\n",
    "test_generator = test_datagen.flow_from_directory(\n",
    "    test_dir,\n",
    "    target_size=(331, 331),\n",
    "    class_mode='binary',\n",
    "    shuffle=False\n",
    ")"
   ],
   "id": "e3f356b73195e679",
   "outputs": [],
   "execution_count": null
  },
  {
   "metadata": {},
   "cell_type": "code",
   "source": "model_new = load_model('nasnet-model.h5')",
   "id": "acf50409aabb2be3",
   "outputs": [],
   "execution_count": null
  },
  {
   "metadata": {},
   "cell_type": "code",
   "source": [
    "model_feat = tf.keras.Model(inputs=model_new.input,outputs=model_new.layers[-2].output)\n",
    "\n",
    "feat_train = model_feat.predict(train_generator)"
   ],
   "id": "10120f8a2cab7d98",
   "outputs": [],
   "execution_count": null
  },
  {
   "metadata": {},
   "cell_type": "code",
   "source": [
    "pca = PCA(n_components=100)\n",
    "feat_train_pca = pca.fit_transform(feat_train)"
   ],
   "id": "30858ba6ed870ddd",
   "outputs": [],
   "execution_count": null
  },
  {
   "metadata": {},
   "cell_type": "code",
   "source": [
    "feat_test = model_feat.predict(test_generator)\n",
    "feat_test_pca = pca.fit_transform(feat_test)"
   ],
   "id": "2c24831a6bb9da4e",
   "outputs": [],
   "execution_count": null
  },
  {
   "metadata": {},
   "cell_type": "code",
   "outputs": [],
   "execution_count": null,
   "source": [
    "labels = []\n",
    "for i in tqdm(range(565)):\n",
    "    inputs, label_batch = next(train_generator)\n",
    "    labels.extend(label_batch)\n",
    "labels = np.array(labels)\n",
    "labels.shape"
   ],
   "id": "41d2d8cc35618bf2"
  },
  {
   "metadata": {},
   "cell_type": "code",
   "outputs": [],
   "execution_count": null,
   "source": [
    "y_test = []\n",
    "for i in tqdm(range(79)):\n",
    "    inputs, label_batch = next(test_generator)\n",
    "    y_test.extend(label_batch)\n",
    "y_test = np.array(y_test)\n",
    "y_test.shape"
   ],
   "id": "72e5d99b09b2f386"
  },
  {
   "metadata": {},
   "cell_type": "code",
   "outputs": [],
   "execution_count": null,
   "source": [
    "param_grid = {\n",
    "    'C': [0.0625, 0.125, 0.25, 0.5, 1, 2, 4, 8, 16],\n",
    "    'gamma': [0.015625,0.03125, 0.0625, 0.125, 0.25, 0.5, 1]\n",
    "}\n",
    "grid_search = GridSearchCV(estimator=svm, param_grid=param_grid, cv=5, n_jobs=-1, verbose=1)\n",
    "grid_search.fit(feat_train_pca, labels)"
   ],
   "id": "cf5e6122784181cf"
  }
 ],
 "metadata": {
  "kernelspec": {
   "display_name": "Python 3",
   "language": "python",
   "name": "python3"
  },
  "language_info": {
   "codemirror_mode": {
    "name": "ipython",
    "version": 2
   },
   "file_extension": ".py",
   "mimetype": "text/x-python",
   "name": "python",
   "nbconvert_exporter": "python",
   "pygments_lexer": "ipython2",
   "version": "2.7.6"
  }
 },
 "nbformat": 4,
 "nbformat_minor": 5
}
