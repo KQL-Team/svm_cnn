{
 "cells": [
  {
   "cell_type": "code",
   "id": "initial_id",
   "metadata": {
    "collapsed": true,
    "ExecuteTime": {
     "end_time": "2024-11-22T14:32:00.707865Z",
     "start_time": "2024-11-22T14:31:56.215135Z"
    }
   },
   "source": [
    "from svm_layer import svm_layer\n",
    "import tensorflow as tf\n",
    "from tqdm import tqdm\n",
    "from pathlib import Path\n",
    "import numpy as np\n",
    "from PIL import Image\n",
    "from tensorflow.keras.preprocessing.image import ImageDataGenerator\n",
    "from tensorflow.keras.applications import NASNetLarge\n",
    "import os"
   ],
   "outputs": [],
   "execution_count": 1
  },
  {
   "metadata": {},
   "cell_type": "code",
   "outputs": [],
   "execution_count": null,
   "source": [
    "datagen = ImageDataGenerator(\n",
    "    rescale=1.0/255,\n",
    "    rotation_range=40,\n",
    "    width_shift_range=0.2,\n",
    "    height_shift_range=0.2,\n",
    "    shear_range=0.2,\n",
    "    zoom_range=0.2,\n",
    "    horizontal_flip=True,\n",
    "    vertical_flip=True,\n",
    "    fill_mode='nearest',\n",
    "    validation_split = 0.2\n",
    ")\n",
    "test_datagen = ImageDataGenerator(rescale=1.0/255)\n",
    "notebook_dir = os.getcwd()\n",
    "project_root = os.path.dirname(notebook_dir)"
   ],
   "id": "b051058e379c7506"
  },
  {
   "metadata": {},
   "cell_type": "code",
   "outputs": [],
   "execution_count": null,
   "source": [
    "train_dir = os.path.join(project_root,'input', 'waste-classification-data', 'DATASET', 'TRAIN')\n",
    "test_dir = os.path.join(project_root,'input', 'waste-classification-data', 'DATASET', 'TEST')"
   ],
   "id": "59d92dfc6240cb10"
  },
  {
   "metadata": {},
   "cell_type": "code",
   "outputs": [],
   "execution_count": null,
   "source": [
    "train_generator = datagen.flow_from_directory(\n",
    "    train_dir,\n",
    "    target_size=(331, 331),\n",
    "    batch_size=32,\n",
    "    class_mode='binary',\n",
    "    shuffle=True,\n",
    "    subset = 'training'\n",
    ")\n",
    "valid_generator = datagen.flow_from_directory(\n",
    "    train_dir,\n",
    "    target_size=(331, 331),\n",
    "    batch_size=32,\n",
    "    class_mode='binary',\n",
    "    shuffle=True,\n",
    "    subset = 'validation'\n",
    ")\n",
    "test_generator = test_datagen.flow_from_directory(\n",
    "    test_dir,\n",
    "    target_size=(331, 331),\n",
    "    class_mode='binary',\n",
    "    shuffle=False\n",
    ")"
   ],
   "id": "c9d55bb46ef4d102"
  },
  {
   "metadata": {},
   "cell_type": "code",
   "outputs": [],
   "execution_count": null,
   "source": "nasnet_model = NASNetLarge(weights='imagenet', include_top=True)",
   "id": "6f3578c4299d1f15"
  },
  {
   "metadata": {},
   "cell_type": "code",
   "outputs": [],
   "execution_count": null,
   "source": [
    "x = nasnet_model.layers[-2].output\n",
    "svm = svm_layer(penalty_para=1.0)(x)"
   ],
   "id": "fef04808a24c60ee"
  },
  {
   "metadata": {},
   "cell_type": "code",
   "outputs": [],
   "execution_count": null,
   "source": [
    "model = tf.keras.Model(inputs = nasnet_model.input, outputs = svm)\n",
    "model.summary()"
   ],
   "id": "b44fe90bd0219ddf"
  },
  {
   "metadata": {},
   "cell_type": "code",
   "outputs": [],
   "execution_count": null,
   "source": [
    "for l in model.layers[:-5]:\n",
    "    l.trainable = False\n",
    "model.compile(optimizer = 'adam', loss='hinge')"
   ],
   "id": "37e4c8f448b150a5"
  },
  {
   "metadata": {},
   "cell_type": "code",
   "outputs": [],
   "execution_count": null,
   "source": [
    "model.fit(train_generator,\n",
    "          epochs=10,\n",
    "          validation_data=valid_generator,\n",
    "          callbacks = [EarlyStopping(patience=5, monitor='val_loss', min_delta=0.01)]\n",
    ")"
   ],
   "id": "4baaacf261b92d32"
  },
  {
   "metadata": {},
   "cell_type": "code",
   "outputs": [],
   "execution_count": null,
   "source": "model.save('nasnet_svm.h5')",
   "id": "eb794cefa5511de3"
  }
 ],
 "metadata": {
  "kernelspec": {
   "display_name": "Python 3",
   "language": "python",
   "name": "python3"
  },
  "language_info": {
   "codemirror_mode": {
    "name": "ipython",
    "version": 2
   },
   "file_extension": ".py",
   "mimetype": "text/x-python",
   "name": "python",
   "nbconvert_exporter": "python",
   "pygments_lexer": "ipython2",
   "version": "2.7.6"
  }
 },
 "nbformat": 4,
 "nbformat_minor": 5
}
